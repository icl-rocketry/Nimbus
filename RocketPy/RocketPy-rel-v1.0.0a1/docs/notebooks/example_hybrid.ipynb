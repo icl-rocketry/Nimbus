{
 "cells": [
  {
   "attachments": {},
   "cell_type": "markdown",
   "metadata": {},
   "source": [
    "# Hybrid Motor\n"
   ]
  },
  {
   "attachments": {},
   "cell_type": "markdown",
   "metadata": {},
   "source": [
    "A hybrid motor is motor composed by a solid fuel grain and a liquid oxidizer.\n",
    "The solid fuel grain is usually made of a rubber-like material, and the liquid\n",
    "oxidizer is usually nitrous oxide. The solid fuel grain is ignited by a spark\n",
    "plug, and the liquid oxidizer is injected into the combustion chamber through\n",
    "an injector. The combustion of the solid fuel grain and the liquid oxidizer\n",
    "generates the thrust.\n",
    "\n",
    "For simulating this kind of motor in RocketPy, we internally use two motors:\n",
    "one for the solid fuel grain and another for the liquid oxidizer. The\n",
    "solid fuel grain motor is simulated as a solid motor, and the liquid oxidizer\n",
    "motor is simulated as a liquid motor.\n",
    "\n",
    "Everything is defined at the same time using the HybridMotor class. Let's\n",
    "see an example:\n"
   ]
  },
  {
   "cell_type": "code",
   "execution_count": null,
   "metadata": {},
   "outputs": [],
   "source": [
    "from rocketpy.motors import HybridMotor, CylindricalTank\n",
    "from rocketpy.motors.Tank import MassFlowRateBasedTank\n",
    "from rocketpy.motors import Fluid"
   ]
  },
  {
   "attachments": {},
   "cell_type": "markdown",
   "metadata": {},
   "source": [
    "## Setting the fluids\n"
   ]
  },
  {
   "cell_type": "code",
   "execution_count": null,
   "metadata": {},
   "outputs": [],
   "source": [
    "oxidizer_liq = Fluid(name=\"N2O_l\", density=1220, quality=1)\n",
    "oxidizer_gas = Fluid(name=\"N2O_g\", density=1.9277, quality=1)"
   ]
  },
  {
   "attachments": {},
   "cell_type": "markdown",
   "metadata": {},
   "source": [
    "## Setting the tank\n"
   ]
  },
  {
   "attachments": {},
   "cell_type": "markdown",
   "metadata": {},
   "source": [
    "The tank will hold the liquid oxidizer, in this case, nitrous oxide.\n",
    "\n",
    "We first create te tank geometry, and then the tank object itself.\n"
   ]
  },
  {
   "cell_type": "code",
   "execution_count": null,
   "metadata": {},
   "outputs": [],
   "source": [
    "tank_shape = CylindricalTank(115 / 2000, 0.705)"
   ]
  },
  {
   "cell_type": "code",
   "execution_count": null,
   "metadata": {},
   "outputs": [],
   "source": [
    "oxidizer_tank = MassFlowRateBasedTank(\n",
    "    name=\"oxidizer tank\",\n",
    "    geometry=tank_shape,\n",
    "    flux_time=(5.2),\n",
    "    initial_liquid_mass=4.11,\n",
    "    initial_gas_mass=0,\n",
    "    liquid_mass_flow_rate_in=0,\n",
    "    liquid_mass_flow_rate_out=(4.11 - 0.5) / 5.2,\n",
    "    gas_mass_flow_rate_in=0,\n",
    "    gas_mass_flow_rate_out=0,\n",
    "    liquid=oxidizer_liq,\n",
    "    gas=oxidizer_gas,\n",
    ")"
   ]
  },
  {
   "attachments": {},
   "cell_type": "markdown",
   "metadata": {},
   "source": [
    "## Create the HybridMotor object\n"
   ]
  },
  {
   "attachments": {},
   "cell_type": "markdown",
   "metadata": {},
   "source": [
    "We are using a lambda function as the thrust curve, but keep in mind that you\n",
    "can use a myriad of different formats here.\n"
   ]
  },
  {
   "cell_type": "code",
   "execution_count": null,
   "metadata": {},
   "outputs": [],
   "source": [
    "hybrid_motor = HybridMotor(\n",
    "    thrust_source=lambda t: 2000 - (2000 - 1400) / 5.2 * t,\n",
    "    dry_mass=100,\n",
    "    dry_inertia=(0, 0, 0),\n",
    "    center_of_dry_mass=550 / 2000 + 109 / 1000,\n",
    "    burn_time=5.2,\n",
    "    reshape_thrust_curve=False,\n",
    "    grain_number=4,\n",
    "    grain_separation=0,\n",
    "    grain_outer_radius=115 / 2000,\n",
    "    grain_initial_inner_radius=0.05 / 2,\n",
    "    grain_initial_height=550 / 4000,\n",
    "    grain_density=900,\n",
    "    nozzle_radius=63.36 / 2000,\n",
    "    throat_radius=26 / 2000,\n",
    "    interpolation_method=\"linear\",\n",
    "    grains_center_of_mass_position=550 / 2000 + 109 / 1000,\n",
    ")"
   ]
  },
  {
   "attachments": {},
   "cell_type": "markdown",
   "metadata": {},
   "source": [
    "## Visualize the results\n"
   ]
  },
  {
   "attachments": {},
   "cell_type": "markdown",
   "metadata": {},
   "source": [
    "At this point, you can already check the thrust curve of the motor.\n"
   ]
  },
  {
   "cell_type": "code",
   "execution_count": null,
   "metadata": {},
   "outputs": [],
   "source": [
    "hybrid_motor.thrust()"
   ]
  },
  {
   "attachments": {},
   "cell_type": "markdown",
   "metadata": {},
   "source": [
    "However, we still need to add the tank to the motor.\n"
   ]
  },
  {
   "cell_type": "code",
   "execution_count": null,
   "metadata": {},
   "outputs": [],
   "source": [
    "hybrid_motor.add_tank(\n",
    "    tank=oxidizer_tank, position=2 * 550 / 2000 + 109 / 1000 + 0.705 / 2\n",
    ")"
   ]
  },
  {
   "attachments": {},
   "cell_type": "markdown",
   "metadata": {},
   "source": [
    "Now we can proceed with several different plots.\n"
   ]
  },
  {
   "cell_type": "code",
   "execution_count": null,
   "metadata": {},
   "outputs": [],
   "source": [
    "hybrid_motor.propellant_mass.plot(0, 5.2)"
   ]
  },
  {
   "cell_type": "code",
   "execution_count": null,
   "metadata": {},
   "outputs": [],
   "source": [
    "hybrid_motor.mass_flow_rate.plot(0, 5.2)"
   ]
  },
  {
   "cell_type": "code",
   "execution_count": null,
   "metadata": {},
   "outputs": [],
   "source": [
    "hybrid_motor.center_of_mass.plot(0, 5.2, samples=50)"
   ]
  },
  {
   "attachments": {},
   "cell_type": "markdown",
   "metadata": {},
   "source": [
    "We can check the inertia plots altogether, let's see how to do it by using the\n",
    "`Function.compare_plots()` method.\n"
   ]
  },
  {
   "cell_type": "code",
   "execution_count": null,
   "metadata": {},
   "outputs": [],
   "source": [
    "from rocketpy import Function\n",
    "\n",
    "inertias = [\n",
    "    (\n",
    "        hybrid_motor.I_11,\n",
    "        \"I_11\",\n",
    "    ),\n",
    "    (\n",
    "        hybrid_motor.I_22,\n",
    "        \"I_22\",\n",
    "    ),\n",
    "    (\n",
    "        hybrid_motor.I_33,\n",
    "        \"I_33\",\n",
    "    ),\n",
    "]\n",
    "\n",
    "Function.compare_plots(\n",
    "    plot_list=inertias,\n",
    "    lower=0,\n",
    "    upper=5.2,\n",
    "    title=\"Inertia moments of the hybrid motor\",\n",
    "    xlabel=\"Time (s)\",\n",
    "    ylabel=\"Inertia (kg * m^2)\",\n",
    ")"
   ]
  },
  {
   "attachments": {},
   "cell_type": "markdown",
   "metadata": {},
   "source": [
    "Alternatively, one may also want to check all the information at once.\n",
    "This can be done using the `all_info()` method.\n"
   ]
  },
  {
   "cell_type": "code",
   "execution_count": null,
   "metadata": {},
   "outputs": [],
   "source": [
    "hybrid_motor.all_info()"
   ]
  }
 ],
 "metadata": {
  "kernelspec": {
   "display_name": "venv",
   "language": "python",
   "name": "python3"
  },
  "language_info": {
   "codemirror_mode": {
    "name": "ipython",
    "version": 3
   },
   "file_extension": ".py",
   "mimetype": "text/x-python",
   "name": "python",
   "nbconvert_exporter": "python",
   "pygments_lexer": "ipython3",
   "version": "3.11.0"
  },
  "orig_nbformat": 4
 },
 "nbformat": 4,
 "nbformat_minor": 2
}
