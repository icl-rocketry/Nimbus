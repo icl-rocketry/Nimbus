{
 "cells": [
  {
   "attachments": {},
   "cell_type": "markdown",
   "metadata": {},
   "source": [
    "# Liquid Motor\n"
   ]
  },
  {
   "attachments": {},
   "cell_type": "markdown",
   "metadata": {},
   "source": [
    "Here we describe how to set a liquid motor using the `rocketpy.motors.LiquidMotor` class.\n",
    "\n",
    "The LiquidMotor class was introduced in v1.0.0 of RocketPy, and therefore the\n",
    "number of possible errors can be higher than other classes of the library.\n",
    "\n",
    "We encourage you to check the documentation of the class.\n",
    "In case you have any doubt, please contact us at [rocketpy.org]([rocketpy.org](https://github.com/RocketPy-Team/RocketPy/))\n"
   ]
  },
  {
   "cell_type": "code",
   "execution_count": null,
   "metadata": {},
   "outputs": [],
   "source": [
    "from math import exp\n",
    "\n",
    "from rocketpy.motors import CylindricalTank, Fluid, LiquidMotor\n",
    "from rocketpy.motors.Tank import MassFlowRateBasedTank"
   ]
  },
  {
   "attachments": {},
   "cell_type": "markdown",
   "metadata": {},
   "source": [
    "## Setting the fluids\n"
   ]
  },
  {
   "cell_type": "code",
   "execution_count": null,
   "metadata": {},
   "outputs": [],
   "source": [
    "# help(Fluid)"
   ]
  },
  {
   "cell_type": "code",
   "execution_count": null,
   "metadata": {},
   "outputs": [],
   "source": [
    "oxidizer_liq = Fluid(name=\"N2O_l\", density=1220, quality=1)\n",
    "oxidizer_gas = Fluid(name=\"N2O_g\", density=1.9277, quality=1)\n",
    "fuel_liq = Fluid(name=\"ethanol_l\", density=789, quality=1)\n",
    "fuel_gas = Fluid(name=\"ethanol_g\", density=1.59, quality=1)"
   ]
  },
  {
   "attachments": {},
   "cell_type": "markdown",
   "metadata": {},
   "source": [
    "## Setting the tanks\n"
   ]
  },
  {
   "cell_type": "code",
   "execution_count": null,
   "metadata": {},
   "outputs": [],
   "source": [
    "tanks_shape = CylindricalTank(0.1, 1, True)"
   ]
  },
  {
   "cell_type": "code",
   "execution_count": null,
   "metadata": {},
   "outputs": [],
   "source": [
    "tanks_shape.radius.plot(equal_axis=True)\n",
    "tanks_shape.inverse_volume.plot()"
   ]
  },
  {
   "cell_type": "code",
   "execution_count": null,
   "metadata": {},
   "outputs": [],
   "source": [
    "oxidizer_tank = MassFlowRateBasedTank(\n",
    "    name=\"oxidizer tank\",\n",
    "    geometry=tanks_shape,\n",
    "    flux_time=5,\n",
    "    initial_liquid_mass=32,\n",
    "    initial_gas_mass=0.1,\n",
    "    liquid_mass_flow_rate_in=0,\n",
    "    liquid_mass_flow_rate_out=lambda t: 32 / 3 * exp(-0.25 * t),\n",
    "    gas_mass_flow_rate_in=0,\n",
    "    gas_mass_flow_rate_out=0,\n",
    "    liquid=oxidizer_liq,\n",
    "    gas=oxidizer_gas,\n",
    ")\n",
    "\n",
    "fuel_tank = MassFlowRateBasedTank(\n",
    "    name=\"fuel tank\",\n",
    "    geometry=tanks_shape,\n",
    "    flux_time=5,\n",
    "    initial_liquid_mass=21,\n",
    "    initial_gas_mass=0.01,\n",
    "    liquid_mass_flow_rate_in=0,\n",
    "    liquid_mass_flow_rate_out=lambda t: 21 / 3 * exp(-0.25 * t),\n",
    "    gas_mass_flow_rate_in=0,\n",
    "    gas_mass_flow_rate_out=lambda t: 0.01 / 3 * exp(-0.25 * t),\n",
    "    liquid=fuel_liq,\n",
    "    gas=fuel_gas,\n",
    ")"
   ]
  },
  {
   "attachments": {},
   "cell_type": "markdown",
   "metadata": {},
   "source": [
    "## Setting the motor\n"
   ]
  },
  {
   "attachments": {},
   "cell_type": "markdown",
   "metadata": {},
   "source": [
    "Now we can finally create the motor.\n",
    "\n",
    "You can use whatever you want as thrust curve. Usually, users input a .eng file,\n",
    "but many other formats are supported. Check the documentation for more information.\n",
    "\n",
    "In this case, we are using a lambda function. This is a very simple way to create\n",
    "a curve and will work just fine for this example.\n"
   ]
  },
  {
   "cell_type": "code",
   "execution_count": null,
   "metadata": {},
   "outputs": [],
   "source": [
    "liquid_motor = LiquidMotor(\n",
    "    thrust_source=lambda t: 4000 - 100 * t**2,\n",
    "    center_of_dry_mass=0,\n",
    "    dry_inertia=(0, 0, 0),\n",
    "    nozzle_radius=0.15,\n",
    "    dry_mass=0,\n",
    "    burn_time=5,\n",
    ")\n",
    "\n",
    "liquid_motor.add_tank(tank=oxidizer_tank, position=0.6)\n",
    "liquid_motor.add_tank(tank=fuel_tank, position=1.8)"
   ]
  },
  {
   "attachments": {},
   "cell_type": "markdown",
   "metadata": {},
   "source": [
    "After defining the motor, we can plot basic attributes using the `info()` method.\n"
   ]
  },
  {
   "cell_type": "code",
   "execution_count": null,
   "metadata": {},
   "outputs": [],
   "source": [
    "liquid_motor.info()"
   ]
  },
  {
   "attachments": {},
   "cell_type": "markdown",
   "metadata": {},
   "source": [
    "Other plots can also be done, in order to check if the motor is behaving as expected.\n",
    "For example:\n",
    "\n",
    "- Propellant mass\n",
    "- Mass flow rate\n",
    "- Motor center of mass\n",
    "- Inertial moment\n",
    "- Exhaust velocity\n"
   ]
  },
  {
   "cell_type": "code",
   "execution_count": null,
   "metadata": {},
   "outputs": [],
   "source": [
    "liquid_motor.propellant_mass.plot(0, 5)\n",
    "liquid_motor.mass_flow_rate.plot(0, 5)"
   ]
  },
  {
   "cell_type": "code",
   "execution_count": null,
   "metadata": {},
   "outputs": [],
   "source": [
    "liquid_motor.center_of_mass.plot(0, 5)"
   ]
  },
  {
   "cell_type": "code",
   "execution_count": null,
   "metadata": {},
   "outputs": [],
   "source": [
    "liquid_motor.I_11.plot(0, 5)"
   ]
  },
  {
   "cell_type": "code",
   "execution_count": null,
   "metadata": {},
   "outputs": [],
   "source": [
    "liquid_motor.exhaust_velocity.plot(0, 5)"
   ]
  }
 ],
 "metadata": {
  "kernelspec": {
   "display_name": "Python 3",
   "language": "python",
   "name": "python3"
  },
  "language_info": {
   "codemirror_mode": {
    "name": "ipython",
    "version": 3
   },
   "file_extension": ".py",
   "mimetype": "text/x-python",
   "name": "python",
   "nbconvert_exporter": "python",
   "pygments_lexer": "ipython3",
   "version": "3.11.0"
  },
  "orig_nbformat": 4
 },
 "nbformat": 4,
 "nbformat_minor": 2
}
