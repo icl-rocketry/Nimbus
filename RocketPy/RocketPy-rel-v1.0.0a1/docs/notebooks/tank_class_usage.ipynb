{
  "cells": [
    {
      "attachments": {},
      "cell_type": "markdown",
      "metadata": {},
      "source": [
        "# Tank Classes\n"
      ]
    },
    {
      "attachments": {},
      "cell_type": "markdown",
      "metadata": {},
      "source": [
        "This notebook gives a quick overview of the tank classes and their usage.\n",
        "\n",
        "Tanks are used for both Liquid and Gas storage. Therefore, user may use it\n",
        "when simulating Liquid or Hybrid propulsion systems.\n",
        "\n",
        "There are different types of tanks, each with its own characteristics.\n",
        "Here we will show how to use most of them.\n",
        "A cylindrical tank will be simulated, but following different approaches to\n",
        "calculate the propellant mass flow rate.\n",
        "\n",
        "To summarize, the UllageBasedTank and LevelBasedTank are less accurate than the\n",
        "MassFlowRateBasedTank and MassBasedTank, since they assume uniform gas\n",
        "distribution filling all the portion that is not occupied by liquid.\n",
        "Therefore, these tanks can only model the tank state until the liquid runs out.\n"
      ]
    },
    {
      "cell_type": "code",
      "execution_count": null,
      "metadata": {},
      "outputs": [],
      "source": [
        "# These lines are here for debugging purposes only.\n",
        "%load_ext autoreload\n",
        "%autoreload 2"
      ]
    },
    {
      "attachments": {},
      "cell_type": "markdown",
      "metadata": {},
      "source": [
        "First, we need to import the necessary classes from the rocketpy module\n"
      ]
    },
    {
      "cell_type": "code",
      "execution_count": null,
      "metadata": {},
      "outputs": [],
      "source": [
        "from rocketpy import (\n",
        "    MassFlowRateBasedTank,\n",
        "    UllageBasedTank,\n",
        "    LevelBasedTank,\n",
        "    MassBasedTank,\n",
        "    Fluid,\n",
        "    CylindricalTank,\n",
        ")"
      ]
    },
    {
      "attachments": {},
      "cell_type": "markdown",
      "metadata": {},
      "source": [
        "## Defining the Fluid's objects\n"
      ]
    },
    {
      "attachments": {},
      "cell_type": "markdown",
      "metadata": {},
      "source": [
        "Both liquid and gas phases are defined using the rocketpy.Fluid class.\n",
        "\n",
        "See the Fluid class documentation for more information.\n"
      ]
    },
    {
      "cell_type": "code",
      "execution_count": null,
      "metadata": {},
      "outputs": [],
      "source": [
        "LiquidN2O = Fluid(name=\"Liquid Nitrous Oxide\", density=855, quality=1)\n",
        "VapourN2O = Fluid(name=\"Vapour Nitrous Oxide\", density=101, quality=0)"
      ]
    },
    {
      "attachments": {},
      "cell_type": "markdown",
      "metadata": {},
      "source": [
        "## Defining the Tank's geometry\n"
      ]
    },
    {
      "attachments": {},
      "cell_type": "markdown",
      "metadata": {},
      "source": [
        "As already mentioned, we will use a cylindrical tank for these examples.\n",
        "This is the simplest tank geometry possible, and it is defined using the\n",
        "CylindricalTank class.\n"
      ]
    },
    {
      "cell_type": "code",
      "execution_count": null,
      "metadata": {},
      "outputs": [],
      "source": [
        "tank_geometry = CylindricalTank(\n",
        "    radius=0.1, height=2.0, spherical_caps=False, geometry_dict=dict()\n",
        ")"
      ]
    },
    {
      "attachments": {},
      "cell_type": "markdown",
      "metadata": {},
      "source": [
        "After defining the tank's geometry, we can visualize it to check if it is\n",
        "correct.\n"
      ]
    },
    {
      "cell_type": "code",
      "execution_count": null,
      "metadata": {},
      "outputs": [],
      "source": [
        "tank_geometry.radius()"
      ]
    },
    {
      "attachments": {},
      "cell_type": "markdown",
      "metadata": {},
      "source": [
        "## MassFlowRateBasedTank\n"
      ]
    },
    {
      "cell_type": "code",
      "execution_count": null,
      "metadata": {},
      "outputs": [],
      "source": [
        "# help(MassFlowRateBasedTank)"
      ]
    },
    {
      "cell_type": "code",
      "execution_count": null,
      "metadata": {},
      "outputs": [],
      "source": [
        "N2O_flow_tank = MassFlowRateBasedTank(\n",
        "    name=\"MassFlowRateBasedTank\",\n",
        "    geometry=tank_geometry,\n",
        "    flux_time=24.750,\n",
        "    liquid=LiquidN2O,\n",
        "    gas=VapourN2O,\n",
        "    initial_liquid_mass=42.8,\n",
        "    initial_gas_mass=0.1,\n",
        "    liquid_mass_flow_rate_in=0,\n",
        "    liquid_mass_flow_rate_out=\"../../data/motors/liquid_motor_example/liquid_mass_flow_out.csv\",\n",
        "    gas_mass_flow_rate_in=0,\n",
        "    gas_mass_flow_rate_out=\"../../data/motors/liquid_motor_example/gas_mass_flow_out.csv\",\n",
        "    discretize=100,\n",
        ")"
      ]
    },
    {
      "cell_type": "code",
      "execution_count": null,
      "metadata": {},
      "outputs": [],
      "source": [
        "# Evolution of the Propellant Mass and the Mass flow rate\n",
        "N2O_flow_tank.fluid_mass.plot()\n",
        "N2O_flow_tank.net_mass_flow_rate.plot()"
      ]
    },
    {
      "cell_type": "code",
      "execution_count": null,
      "metadata": {},
      "outputs": [],
      "source": [
        "# Evolution of the Propellant center of mass position\n",
        "N2O_flow_tank.center_of_mass.plot()"
      ]
    },
    {
      "attachments": {},
      "cell_type": "markdown",
      "metadata": {},
      "source": [
        "## UllageBasedTank\n"
      ]
    },
    {
      "attachments": {},
      "cell_type": "markdown",
      "metadata": {},
      "source": [
        "First, we calculate the ullage volume.\n",
        "To do so, we can use the previous tank object.\n"
      ]
    },
    {
      "cell_type": "code",
      "execution_count": null,
      "metadata": {},
      "outputs": [],
      "source": [
        "tank_volume = tank_geometry.total_volume\n",
        "ullage = (-1 * N2O_flow_tank.liquid_volume) + tank_volume"
      ]
    },
    {
      "cell_type": "code",
      "execution_count": null,
      "metadata": {},
      "outputs": [],
      "source": [
        "N2O_ullage_tank = UllageBasedTank(\n",
        "    name=\"UllageBasedTank\",\n",
        "    geometry=tank_geometry,\n",
        "    flux_time=24.750,\n",
        "    ullage=ullage,\n",
        "    gas=VapourN2O,\n",
        "    liquid=LiquidN2O,\n",
        ")"
      ]
    },
    {
      "cell_type": "code",
      "execution_count": null,
      "metadata": {},
      "outputs": [],
      "source": [
        "N2O_ullage_tank.fluid_mass.plot()\n",
        "N2O_ullage_tank.net_mass_flow_rate.plot()"
      ]
    },
    {
      "cell_type": "code",
      "execution_count": null,
      "metadata": {},
      "outputs": [],
      "source": [
        "N2O_ullage_tank.center_of_mass.plot()"
      ]
    },
    {
      "attachments": {},
      "cell_type": "markdown",
      "metadata": {},
      "source": [
        "## MassBasedTank\n"
      ]
    },
    {
      "cell_type": "code",
      "execution_count": null,
      "metadata": {},
      "outputs": [],
      "source": [
        "gas_mass = N2O_flow_tank.gas_mass\n",
        "liquid_mass = N2O_flow_tank.liquid_mass"
      ]
    },
    {
      "cell_type": "code",
      "execution_count": null,
      "metadata": {},
      "outputs": [],
      "source": [
        "N2O_mass_tank = MassBasedTank(\n",
        "    name=\"MassBasedTank\",\n",
        "    geometry=tank_geometry,\n",
        "    flux_time=24.750,\n",
        "    gas_mass=gas_mass,\n",
        "    liquid_mass=liquid_mass,\n",
        "    gas=VapourN2O,\n",
        "    liquid=LiquidN2O,\n",
        ")"
      ]
    },
    {
      "cell_type": "code",
      "execution_count": null,
      "metadata": {},
      "outputs": [],
      "source": [
        "N2O_mass_tank.fluid_mass.plot()\n",
        "N2O_mass_tank.net_mass_flow_rate.plot()"
      ]
    },
    {
      "cell_type": "code",
      "execution_count": null,
      "metadata": {},
      "outputs": [],
      "source": [
        "N2O_mass_tank.center_of_mass.plot()"
      ]
    },
    {
      "attachments": {},
      "cell_type": "markdown",
      "metadata": {},
      "source": [
        "## LevelBasedTank\n"
      ]
    },
    {
      "cell_type": "code",
      "execution_count": null,
      "metadata": {},
      "outputs": [],
      "source": [
        "liquid_height = N2O_flow_tank.liquid_height"
      ]
    },
    {
      "cell_type": "code",
      "execution_count": null,
      "metadata": {},
      "outputs": [],
      "source": [
        "N20_level_tank = LevelBasedTank(\n",
        "    name=\"LevelBasedTank\",\n",
        "    geometry=tank_geometry,\n",
        "    flux_time=24.750,\n",
        "    liquid=LiquidN2O,\n",
        "    gas=VapourN2O,\n",
        "    liquid_height=liquid_height,\n",
        "    discretize=100,\n",
        ")"
      ]
    },
    {
      "cell_type": "code",
      "execution_count": null,
      "metadata": {},
      "outputs": [],
      "source": [
        "N20_level_tank.fluid_mass.plot(0, 24.750)\n",
        "N20_level_tank.net_mass_flow_rate.plot(0, 24.750)"
      ]
    },
    {
      "cell_type": "code",
      "execution_count": null,
      "metadata": {},
      "outputs": [],
      "source": [
        "N20_level_tank.center_of_mass.plot(0, 24.750)"
      ]
    },
    {
      "attachments": {},
      "cell_type": "markdown",
      "metadata": {},
      "source": [
        "## Compare all the tanks\n"
      ]
    },
    {
      "attachments": {},
      "cell_type": "markdown",
      "metadata": {},
      "source": [
        "Now that we saw the different methods to calculate the mass flow rate, we can\n",
        "compare the results all together.\n"
      ]
    },
    {
      "cell_type": "code",
      "execution_count": null,
      "metadata": {},
      "outputs": [],
      "source": [
        "from rocketpy import Function"
      ]
    },
    {
      "cell_type": "code",
      "execution_count": null,
      "metadata": {},
      "outputs": [],
      "source": [
        "tanks = [N2O_flow_tank, N2O_ullage_tank, N2O_mass_tank, N20_level_tank]"
      ]
    },
    {
      "cell_type": "code",
      "execution_count": null,
      "metadata": {},
      "outputs": [],
      "source": [
        "# Mass\n",
        "Function.comparePlots(\n",
        "    plot_list=[(tank.fluid_mass, tank.name) for tank in tanks],\n",
        "    lower=0,\n",
        "    upper=24.750,\n",
        "    title=\"Mass of Propellant in the Tank\",\n",
        "    xlabel=\"Time (s)\",\n",
        "    ylabel=\"Mass (kg)\",\n",
        ")"
      ]
    },
    {
      "cell_type": "code",
      "execution_count": null,
      "metadata": {},
      "outputs": [],
      "source": [
        "# Mass flow rate\n",
        "Function.comparePlots(\n",
        "    plot_list=[(tank.net_mass_flow_rate, tank.name) for tank in tanks],\n",
        "    lower=0,\n",
        "    upper=24.750,\n",
        "    title=\"Mass Flow Rate Comparison\",\n",
        "    xlabel=\"Time (s)\",\n",
        "    ylabel=\"Mass Flow Rate (kg/s)\",\n",
        ")"
      ]
    },
    {
      "cell_type": "code",
      "execution_count": null,
      "metadata": {},
      "outputs": [],
      "source": [
        "# Center of mass\n",
        "Function.comparePlots(\n",
        "    plot_list=[(tank.center_of_mass, tank.name) for tank in tanks],\n",
        "    lower=0,\n",
        "    upper=24.750,\n",
        "    title=\"Center of Mass Comparison\",\n",
        "    xlabel=\"Time (s)\",\n",
        "    ylabel=\"Center of mass of Fluid (m)\",\n",
        ")"
      ]
    }
  ],
  "metadata": {
    "kernelspec": {
      "display_name": "Python 3.10.4 ('rocketpy_dev')",
      "language": "python",
      "name": "python3"
    },
    "language_info": {
      "codemirror_mode": {
        "name": "ipython",
        "version": 3
      },
      "file_extension": ".py",
      "mimetype": "text/x-python",
      "name": "python",
      "nbconvert_exporter": "python",
      "pygments_lexer": "ipython3",
      "version": "3.11.0"
    },
    "orig_nbformat": 4,
    "vscode": {
      "interpreter": {
        "hash": "17486f8a29a6f3f5793ef6e4308be3466edd88f0413966cef62d8d8bd0a80bb6"
      }
    }
  },
  "nbformat": 4,
  "nbformat_minor": 2
}
