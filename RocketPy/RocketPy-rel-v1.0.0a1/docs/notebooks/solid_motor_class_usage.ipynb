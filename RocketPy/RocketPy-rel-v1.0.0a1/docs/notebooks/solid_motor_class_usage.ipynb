{
 "cells": [
  {
   "attachments": {},
   "cell_type": "markdown",
   "metadata": {},
   "source": [
    "# SolidMotor Class Usage\n"
   ]
  },
  {
   "attachments": {},
   "cell_type": "markdown",
   "metadata": {},
   "source": [
    "Here we explore different features of the SolidMotor class.\n",
    "\n",
    "Let's start by importing the SolidMotor class.\n"
   ]
  },
  {
   "cell_type": "code",
   "execution_count": null,
   "metadata": {},
   "outputs": [],
   "source": [
    "from rocketpy import SolidMotor"
   ]
  },
  {
   "cell_type": "code",
   "execution_count": null,
   "metadata": {},
   "outputs": [],
   "source": [
    "# These lines are here for debugging purposes only.\n",
    "%load_ext autoreload\n",
    "%autoreload 2"
   ]
  },
  {
   "attachments": {},
   "cell_type": "markdown",
   "metadata": {},
   "source": [
    "## Thrust Source\n"
   ]
  },
  {
   "attachments": {},
   "cell_type": "markdown",
   "metadata": {},
   "source": [
    "The thrust source is of most importance when analyzing several trajectory attributes,\n",
    "including the out of rail velocity, thrust to weight ratio, apogee and many others.\n",
    "Let's create a new motor and take a closer look at this functionality.\n"
   ]
  },
  {
   "attachments": {},
   "cell_type": "markdown",
   "metadata": {},
   "source": [
    "### Constant Thrust\n"
   ]
  },
  {
   "attachments": {},
   "cell_type": "markdown",
   "metadata": {},
   "source": [
    "When passing an int or float, the thrust will be considered constant in time.\n"
   ]
  },
  {
   "cell_type": "code",
   "execution_count": null,
   "metadata": {},
   "outputs": [],
   "source": [
    "solid_constant = SolidMotor(\n",
    "    thrust_source=1500,\n",
    "    dry_mass=1.815,\n",
    "    dry_inertia=(0.125, 0.125, 0.002),\n",
    "    center_of_dry_mass=0.317,\n",
    "    grains_center_of_mass_position=0.397,\n",
    "    burn_time=3.9,\n",
    "    grain_number=5,\n",
    "    grain_separation=5 / 1000,\n",
    "    grain_density=1815,\n",
    "    grain_outer_radius=33 / 1000,\n",
    "    grain_initial_inner_radius=15 / 1000,\n",
    "    grain_initial_height=120 / 1000,\n",
    "    nozzle_radius=33 / 1000,\n",
    "    throat_radius=11 / 1000,\n",
    "    interpolation_method=\"linear\",\n",
    "    nozzle_position=0,\n",
    "    coordinate_system_orientation=\"nozzle_to_combustion_chamber\",\n",
    ")"
   ]
  },
  {
   "attachments": {},
   "cell_type": "markdown",
   "metadata": {},
   "source": [
    "Let's call the `info()` method to see what kind of information we get.\n",
    "Alternatively, we could use the `all_info()` method to get a more complete output.\n"
   ]
  },
  {
   "cell_type": "code",
   "execution_count": null,
   "metadata": {
    "tags": []
   },
   "outputs": [],
   "source": [
    "solid_constant.info()"
   ]
  },
  {
   "attachments": {},
   "cell_type": "markdown",
   "metadata": {},
   "source": [
    "### Thrust From Static Firings (CSV Files)\n"
   ]
  },
  {
   "attachments": {},
   "cell_type": "markdown",
   "metadata": {},
   "source": [
    "Usually one has much more precise information about the motor and wishes to\n",
    "specify a directory containing a .csv file (the file shall contain no headers),\n",
    "which contains thrust (Newtons) as a function of time (seconds).\n",
    "\n",
    "That can be done as follows:\n"
   ]
  },
  {
   "cell_type": "code",
   "execution_count": null,
   "metadata": {},
   "outputs": [],
   "source": [
    "solid_csv = SolidMotor(\n",
    "    thrust_source=r\"../../data/motors/keron/thrustCurve.csv\",\n",
    "    dry_mass=1.815,\n",
    "    dry_inertia=(0.125, 0.125, 0.002),\n",
    "    center_of_dry_mass=0.317,\n",
    "    grains_center_of_mass_position=0.397,\n",
    "    burn_time=3.9,\n",
    "    grain_number=5,\n",
    "    grain_separation=5 / 1000,\n",
    "    grain_density=1815,\n",
    "    grain_outer_radius=33 / 1000,\n",
    "    grain_initial_inner_radius=15 / 1000,\n",
    "    grain_initial_height=120 / 1000,\n",
    "    nozzle_radius=33 / 1000,\n",
    "    throat_radius=11 / 1000,\n",
    "    interpolation_method=\"linear\",\n",
    "    nozzle_position=0,\n",
    "    coordinate_system_orientation=\"nozzle_to_combustion_chamber\",\n",
    ")"
   ]
  },
  {
   "cell_type": "code",
   "execution_count": null,
   "metadata": {
    "tags": []
   },
   "outputs": [],
   "source": [
    "solid_csv.info()"
   ]
  },
  {
   "attachments": {},
   "cell_type": "markdown",
   "metadata": {},
   "source": [
    "### Eng Files Are Also Supported! (RASP)\n"
   ]
  },
  {
   "attachments": {},
   "cell_type": "markdown",
   "metadata": {},
   "source": [
    "Most rocket motors providers share the thrust curve from their motors using the RASP file format (`.eng` files). RocketPy can import such files as the thrust source. Furthermore, if you have a thrust curve in a `.csv`file, RocketPy can also read your data and exported as a `.eng` file.\n"
   ]
  },
  {
   "cell_type": "code",
   "execution_count": null,
   "metadata": {},
   "outputs": [],
   "source": [
    "solid_eng = SolidMotor(\n",
    "    thrust_source=\"../../data/motors/Cesaroni_M1670.eng\",\n",
    "    dry_mass=1.815,\n",
    "    dry_inertia=(0.125, 0.125, 0.002),\n",
    "    center_of_dry_mass=0.317,\n",
    "    grains_center_of_mass_position=0.397,\n",
    "    burn_time=3.9,\n",
    "    grain_number=5,\n",
    "    grain_separation=5 / 1000,\n",
    "    grain_density=1815,\n",
    "    grain_outer_radius=33 / 1000,\n",
    "    grain_initial_inner_radius=15 / 1000,\n",
    "    grain_initial_height=120 / 1000,\n",
    "    nozzle_radius=33 / 1000,\n",
    "    throat_radius=11 / 1000,\n",
    "    interpolation_method=\"linear\",\n",
    "    nozzle_position=0,\n",
    "    coordinate_system_orientation=\"nozzle_to_combustion_chamber\",\n",
    ")"
   ]
  },
  {
   "attachments": {},
   "cell_type": "markdown",
   "metadata": {},
   "source": [
    "This time we want to try the `all_info()` to capture more details about the motor.\n"
   ]
  },
  {
   "cell_type": "code",
   "execution_count": null,
   "metadata": {},
   "outputs": [],
   "source": [
    "solid_eng.all_info()"
   ]
  },
  {
   "attachments": {},
   "cell_type": "markdown",
   "metadata": {},
   "source": [
    "#### One More Option...\n"
   ]
  },
  {
   "attachments": {},
   "cell_type": "markdown",
   "metadata": {},
   "source": [
    "There is also a fourth option where one specifies the thrust source parameter by passing a callable function like below.\n",
    "\n",
    "Lambda functions are particularly useful in Python, and therefore the SolidMotor\n",
    "class also supports them. Let's see how to use it.\n"
   ]
  },
  {
   "cell_type": "code",
   "execution_count": null,
   "metadata": {},
   "outputs": [],
   "source": [
    "solid_lambda = SolidMotor(\n",
    "    thrust_source=lambda x: 1 / (x + 1),\n",
    "    dry_mass=1.815,\n",
    "    dry_inertia=(0.125, 0.125, 0.002),\n",
    "    center_of_dry_mass=0.317,\n",
    "    grains_center_of_mass_position=0.397,\n",
    "    burn_time=3.9,\n",
    "    grain_number=5,\n",
    "    grain_separation=5 / 1000,\n",
    "    grain_density=1815,\n",
    "    grain_outer_radius=33 / 1000,\n",
    "    grain_initial_inner_radius=15 / 1000,\n",
    "    grain_initial_height=120 / 1000,\n",
    "    nozzle_radius=33 / 1000,\n",
    "    throat_radius=11 / 1000,\n",
    "    interpolation_method=\"linear\",\n",
    "    nozzle_position=0,\n",
    "    coordinate_system_orientation=\"nozzle_to_combustion_chamber\",\n",
    ")"
   ]
  },
  {
   "cell_type": "code",
   "execution_count": null,
   "metadata": {
    "tags": []
   },
   "outputs": [],
   "source": [
    "solid_lambda.info()"
   ]
  },
  {
   "attachments": {},
   "cell_type": "markdown",
   "metadata": {},
   "source": [
    "# Reshaping and interpolating the thrust curve\n"
   ]
  },
  {
   "attachments": {},
   "cell_type": "markdown",
   "metadata": {},
   "source": [
    "We know explore the reshape feature concerning the thrust curve and the interpolation method. Sometimes is useful to rescale a given curve to match new specifications when impulse and burn out time are expected to vary only slightly. That can be done how we know exemplify by setting the new burn out time in seconds to be ten and the new total impulse to be 6000 Ns.\n"
   ]
  },
  {
   "cell_type": "code",
   "execution_count": null,
   "metadata": {},
   "outputs": [],
   "source": [
    "solid_reshaped = SolidMotor(\n",
    "    thrust_source=r\"../../data/motors/keron/thrustCurve.csv\",\n",
    "    dry_mass=1.815,\n",
    "    dry_inertia=(0.125, 0.125, 0.002),\n",
    "    reshape_thrust_curve=[10, 6000],\n",
    "    center_of_dry_mass=0.317,\n",
    "    grains_center_of_mass_position=0.397,\n",
    "    burn_time=3.9,\n",
    "    grain_number=5,\n",
    "    grain_separation=5 / 1000,\n",
    "    grain_density=1815,\n",
    "    grain_outer_radius=33 / 1000,\n",
    "    grain_initial_inner_radius=15 / 1000,\n",
    "    grain_initial_height=120 / 1000,\n",
    "    nozzle_radius=33 / 1000,\n",
    "    throat_radius=11 / 1000,\n",
    "    interpolation_method=\"linear\",\n",
    "    nozzle_position=0,\n",
    "    coordinate_system_orientation=\"nozzle_to_combustion_chamber\",\n",
    ")"
   ]
  },
  {
   "attachments": {},
   "cell_type": "markdown",
   "metadata": {},
   "source": [
    "Pay close attention to the newly generated curve and be aware of the changes the rescale has produced regarding the physical quantities.\n"
   ]
  },
  {
   "cell_type": "code",
   "execution_count": null,
   "metadata": {
    "tags": []
   },
   "outputs": [],
   "source": [
    "solid_reshaped.all_info()"
   ]
  },
  {
   "attachments": {},
   "cell_type": "markdown",
   "metadata": {},
   "source": [
    "Also one is able to specify a certain interpolation method. That can be done by simply changing the 'interpolation_method' parameter to 'spline' , 'akima' or 'linear'. Default is set to linear.\n"
   ]
  },
  {
   "attachments": {},
   "cell_type": "markdown",
   "metadata": {},
   "source": [
    "## Key Assumptions and Grain Configurations\n"
   ]
  },
  {
   "attachments": {},
   "cell_type": "markdown",
   "metadata": {},
   "source": [
    "One might wonder how some parameters were calculated and what key assumptions were made. Regarding grain configuration one should pay close attention to the fact that only BATES grain configuration is supported.\n"
   ]
  },
  {
   "attachments": {},
   "cell_type": "markdown",
   "metadata": {},
   "source": [
    "Finally, another key physical assumption is that constant exhaust velocity is assumed to be the case at all times which is in fact equivalent to saying that specific impulse is constant.\n"
   ]
  }
 ],
 "metadata": {
  "kernelspec": {
   "display_name": "Python 3",
   "language": "python",
   "name": "python3"
  },
  "language_info": {
   "codemirror_mode": {
    "name": "ipython",
    "version": 3
   },
   "file_extension": ".py",
   "mimetype": "text/x-python",
   "name": "python",
   "nbconvert_exporter": "python",
   "pygments_lexer": "ipython3",
   "version": "3.11.0"
  },
  "vscode": {
   "interpreter": {
    "hash": "26de051ba29f2982a8de78e945f0abaf191376122a1563185a90213a26c5da77"
   }
  }
 },
 "nbformat": 4,
 "nbformat_minor": 2
}
