{
 "cells": [
  {
   "attachments": {},
   "cell_type": "markdown",
   "metadata": {},
   "source": [
    "# Environment Class Usage"
   ]
  },
  {
   "attachments": {},
   "cell_type": "markdown",
   "metadata": {},
   "source": [
    "Here we explore the different environment models available by default in RocketPy. Let's start by importing the rocketpy module."
   ]
  },
  {
   "cell_type": "code",
   "execution_count": null,
   "metadata": {},
   "outputs": [],
   "source": [
    "from rocketpy import Environment, SolidMotor, Rocket, Flight"
   ]
  },
  {
   "attachments": {},
   "cell_type": "markdown",
   "metadata": {},
   "source": [
    "If you are using Jupyter Notebooks, it is recommended to run the following line to make matplotlib plots which will be shown later interactive and higher quality."
   ]
  },
  {
   "cell_type": "code",
   "execution_count": null,
   "metadata": {},
   "outputs": [],
   "source": [
    "%matplotlib widget"
   ]
  },
  {
   "attachments": {},
   "cell_type": "markdown",
   "metadata": {},
   "source": [
    "## Datetime\n",
    "\n",
    "RocketPy requires datetime information specifying year, month, day and hour to properly forecast the weather. Alongside this data, a timezone may also be specified as follows."
   ]
  },
  {
   "cell_type": "code",
   "execution_count": null,
   "metadata": {},
   "outputs": [],
   "source": [
    "env = Environment(date=(2022, 2, 16, 18), timeZone=\"America/New_York\")"
   ]
  },
  {
   "attachments": {},
   "cell_type": "markdown",
   "metadata": {},
   "source": [
    "It is also possible to omit the timezone, in which case RocketPy will assume the datetime is given in standard UTC time, as done in the examples that follow. "
   ]
  },
  {
   "attachments": {},
   "cell_type": "markdown",
   "metadata": {},
   "source": [
    "## Elevation\n",
    "\n",
    "The elevation of the launch site of a rocket is particularly important for determining its interaction with the atmosphere and Earth's gravitational field.\n",
    "\n",
    "Sometimes, together with the latitude and longitude of the launch site, the elevation which is measured in meters above sea level is known and can be used to initialize an Environment class instance as follows."
   ]
  },
  {
   "cell_type": "code",
   "execution_count": null,
   "metadata": {},
   "outputs": [],
   "source": [
    "env = Environment(\n",
    "    date=(2019, 2, 10, 18),\n",
    "    latitude=-21.960641,\n",
    "    longitude=-47.482122,\n",
    "    elevation=110,\n",
    ")"
   ]
  },
  {
   "attachments": {},
   "cell_type": "markdown",
   "metadata": {},
   "source": [
    "However, this is not always the case. Lucky for us, there are alternatives to find an approximate value of the elevation of the launch site if the latitude and longitude values are know.\n",
    "\n",
    "One option is to use the value supplied by some atmospheric models. Since elevation data is crucial for Numerical Weather Programing, some weather models make elevation data available together with other variables. But this will be covered later.\n",
    "\n",
    "Another very useful and handy option is to use [Open-Elevation](https://open-elevation.com/), a free and open-source elevation API. It is built right into RocketPy and one can use it as follows.\n",
    "\n",
    "First, we initialize a new Environment."
   ]
  },
  {
   "cell_type": "code",
   "execution_count": null,
   "metadata": {},
   "outputs": [],
   "source": [
    "env = Environment(date=(2019, 2, 10, 18), latitude=-21.960641, longitude=-47.482122)"
   ]
  },
  {
   "attachments": {},
   "cell_type": "markdown",
   "metadata": {},
   "source": [
    "Then, we use the Environment.setElevation method with the input parameter as 'Open-Elevation'. Note, however, that Open-Elevation servers are not always available."
   ]
  },
  {
   "cell_type": "code",
   "execution_count": null,
   "metadata": {},
   "outputs": [],
   "source": [
    "# env.set_elevation('Open-Elevation')"
   ]
  },
  {
   "attachments": {},
   "cell_type": "markdown",
   "metadata": {},
   "source": [
    "To get information from the Environment, just use the Environment.info() or the Environment.all_info() methods."
   ]
  },
  {
   "cell_type": "code",
   "execution_count": null,
   "metadata": {},
   "outputs": [],
   "source": [
    "env.info()"
   ]
  },
  {
   "attachments": {},
   "cell_type": "markdown",
   "metadata": {},
   "source": [
    "## Atmospheric Models"
   ]
  },
  {
   "attachments": {},
   "cell_type": "markdown",
   "metadata": {},
   "source": [
    "### Using the Standard Atmosphere"
   ]
  },
  {
   "attachments": {},
   "cell_type": "markdown",
   "metadata": {},
   "source": [
    "By default, when initializing an environment class, the International Standard Atmosphere as defined by ISO 2533 is initialized.\n",
    "\n",
    "Note that the International Standard Atmosphere only has temperature and pressure profiles properly specified. Other profiles can be derived from it, however, winds are automatically set to 0 m/s."
   ]
  },
  {
   "cell_type": "code",
   "execution_count": null,
   "metadata": {},
   "outputs": [],
   "source": [
    "EnvISA = Environment()"
   ]
  },
  {
   "cell_type": "code",
   "execution_count": null,
   "metadata": {},
   "outputs": [],
   "source": [
    "EnvISA.info()"
   ]
  },
  {
   "attachments": {},
   "cell_type": "markdown",
   "metadata": {},
   "source": [
    "The International Standard Atmosphere can also be reset at any time by using the following method."
   ]
  },
  {
   "cell_type": "code",
   "execution_count": null,
   "metadata": {},
   "outputs": [],
   "source": [
    "EnvISA.set_atmospheric_model(type=\"standard_atmosphere\")"
   ]
  },
  {
   "attachments": {},
   "cell_type": "markdown",
   "metadata": {},
   "source": [
    "### Using a Custom Atmosphere"
   ]
  },
  {
   "attachments": {},
   "cell_type": "markdown",
   "metadata": {},
   "source": [
    "The user can also set a completely customized atmosphere. This is particularly useful for setting custom values of wind in both directions.\n",
    "\n",
    "First, we initialize a new Environment."
   ]
  },
  {
   "cell_type": "code",
   "execution_count": null,
   "metadata": {},
   "outputs": [],
   "source": [
    "EnvCA = Environment()"
   ]
  },
  {
   "attachments": {},
   "cell_type": "markdown",
   "metadata": {},
   "source": [
    "Then, we set the atmospheric model as 'custom_atmosphere'.\n",
    "\n",
    "Leaving the pressure field as None means we want the International Standard Atmosphere's pressure profile to be used. We could have done the same with temperature, but to showcase how floats can be used, we set the temperature field as a constant 300 K profile.\n",
    "\n",
    "For the wind, we need to specify its value in both U (east) and V (north) direction. In this case, we used arrays to specify points. Consider a wind U profile of 5 m/s at 0 m and 10 m/s at 1000 m. For the wind V, we used -2 m/s at 0 m, 3 m/s at 500 m and 2 m/s at 1000 m."
   ]
  },
  {
   "cell_type": "code",
   "execution_count": null,
   "metadata": {},
   "outputs": [],
   "source": [
    "EnvCA.set_atmospheric_model(\n",
    "    type=\"custom_atmosphere\",\n",
    "    pressure=None,\n",
    "    temperature=300,\n",
    "    wind_u=[(0, 5), (1000, 10)],\n",
    "    wind_v=[(0, -2), (500, 3), (1600, 2)],\n",
    ")"
   ]
  },
  {
   "cell_type": "code",
   "execution_count": null,
   "metadata": {},
   "outputs": [],
   "source": [
    "EnvCA.all_info()"
   ]
  },
  {
   "attachments": {},
   "cell_type": "markdown",
   "metadata": {},
   "source": [
    "Keep in mind that importing .csv files for Custom Atmospheres is also possible. See the documentation on Environment.set_atmospheric_model for more information."
   ]
  },
  {
   "attachments": {},
   "cell_type": "markdown",
   "metadata": {},
   "source": [
    "### Using Wyoming Upper Air Soundings\n",
    "\n",
    "Another option to define atmospheric conditions is to use upper air soundings. The University of Wyoming - College of Engineering - Department of Atmospheric Sciences has a great compilation of atmospheric soundings on their website which can be found [here](http://weather.uwyo.edu/upperair/sounding.html).\n",
    "\n",
    "For this example, we will use the sounding from 83779 SBMT Marte Civ Observations at 00Z 04 Feb 2019 which can be accessed using the URL generated by the above website: [http://weather.uwyo.edu/cgi-bin/sounding?region=samer&TYPE=TEXT%3ALIST&YEAR=2019&MONTH=02&FROM=0500&TO=0512&STNM=83779](http://weather.uwyo.edu/cgi-bin/sounding?region=samer&TYPE=TEXT%3ALIST&YEAR=2019&MONTH=02&FROM=0500&TO=0512&STNM=83779).\n",
    "\n",
    "First, we initialize a new Environment. There is no need to specify dates, latitude and longitude here, so we will skip them for know."
   ]
  },
  {
   "cell_type": "code",
   "execution_count": null,
   "metadata": {},
   "outputs": [],
   "source": [
    "EnvWUAS = Environment()"
   ]
  },
  {
   "attachments": {},
   "cell_type": "markdown",
   "metadata": {},
   "source": [
    "Now, we set use the URL above as the input to our atmospheric model."
   ]
  },
  {
   "cell_type": "code",
   "execution_count": null,
   "metadata": {},
   "outputs": [],
   "source": [
    "URL = \"http://weather.uwyo.edu/cgi-bin/sounding?region=samer&TYPE=TEXT%3ALIST&YEAR=2019&MONTH=02&FROM=0500&TO=0512&STNM=83779\"\n",
    "\n",
    "EnvWUAS.set_atmospheric_model(type=\"wyoming_sounding\", file=URL)"
   ]
  },
  {
   "attachments": {},
   "cell_type": "markdown",
   "metadata": {},
   "source": [
    "Next, notice how even though we have not specified a surface elevation for our Environment, it has one set! The reason is that Wyoming Upper Air Soundings have elevation data for the sounding station, which is used to set the elevation of the Environment. If you do not want this elevation, you can change using Environment.setElevation(desired elevation in meters)."
   ]
  },
  {
   "cell_type": "code",
   "execution_count": null,
   "metadata": {},
   "outputs": [],
   "source": [
    "EnvWUAS.all_info()"
   ]
  },
  {
   "attachments": {},
   "cell_type": "markdown",
   "metadata": {},
   "source": [
    "### Using NOAA's Ruc Soundings\n",
    "Another option for upper air soundings is [NOAA's Ruc Soundings](https://rucsoundings.noaa.gov/) servers. It allows users to download virtual soundings from numerical weather prediction models such as GFS, RAP and NAM, and also allow for the download of real soundings from the Integrated Global Radiosonde Archive (IGRA).\n",
    "\n",
    "All of these options can be retrieved as a text file which follows the GSD format. By generating such a file through the link above, the file's URL can be used to import the atmospheric data into RocketPy.\n",
    "\n",
    "We will use the same sounding station as we did for Wyoming Soundings. Selecting ROABs as the initial data source, specifying the station through it's WMO-ID and opting for the ASCII (GSD format) button, the following page opens up: [https://rucsoundings.noaa.gov/get_raobs.cgi?data_source=RAOB&latest=latest&start_year=2019&start_month_name=Feb&start_mday=5&start_hour=12&start_min=0&n_hrs=1.0&fcst_len=shortest&airport=83779&text=Ascii%20text%20%28GSD%20format%29&hydrometeors=false&start=latest](https://rucsoundings.noaa.gov/get_raobs.cgi?data_source=RAOB&latest=latest&start_year=2019&start_month_name=Feb&start_mday=5&start_hour=12&start_min=0&n_hrs=1.0&fcst_len=shortest&airport=83779&text=Ascii%20text%20%28GSD%20format%29&hydrometeors=false&start=latest)\n",
    "\n",
    "Let's initialize a new Environment to use this as it's source for atmospheric conditions. There is no need to specify dates, latitude and longitude here as well, so we will skip them for know."
   ]
  },
  {
   "cell_type": "code",
   "execution_count": null,
   "metadata": {},
   "outputs": [],
   "source": [
    "EnvRUC = Environment()"
   ]
  },
  {
   "cell_type": "code",
   "execution_count": null,
   "metadata": {},
   "outputs": [],
   "source": [
    "URL = \"https://rucsoundings.noaa.gov/get_raobs.cgi?data_source=RAOB&latest=latest&start_year=2019&start_month_name=Feb&start_mday=5&start_hour=12&start_min=0&n_hrs=1.0&fcst_len=shortest&airport=83779&text=Ascii%20text%20%28GSD%20format%29&hydrometeors=false&start=latest\"\n",
    "\n",
    "EnvRUC.set_atmospheric_model(type=\"NOAARucSounding\", file=URL)"
   ]
  },
  {
   "cell_type": "code",
   "execution_count": null,
   "metadata": {
    "scrolled": false
   },
   "outputs": [],
   "source": [
    "EnvRUC.all_info()"
   ]
  },
  {
   "attachments": {},
   "cell_type": "markdown",
   "metadata": {},
   "source": [
    "### Using Weather Forecasts and Reanalysis\n",
    "\n",
    "Weather Forecasts and Reanalysis can also be used to set the atmospheric model. Here we will showcase how to import global forecasts such as GFS and also local forecasts such as NAM and RAP for North America, all of these available through OPeNDAP in the [NOAA's NCEP NOMADS](http://nomads.ncep.noaa.gov/) website. Keep in mind that other generic forecasts can also be imported.\n",
    "\n",
    "Furthermore, reanalysis such as ERA5, which can be easily downloaded from [ECMWF's Climate Data Store](https://cds.climate.copernicus.eu/#!/home), will also be showcased."
   ]
  },
  {
   "attachments": {},
   "cell_type": "markdown",
   "metadata": {},
   "source": [
    "#### Setting up Date, Latitude and Longitude\n",
    "\n",
    "All Environments which use weather forecasts or reanalysis must have date, latitude and longitude set up correctly during or after initialization in order for everything to work smoothly.\n",
    "\n",
    "Let's first initialize a new Environment for the GFS weather forecast by specifying date, latitude and longitude during initialization. Keep in mind that date is specified using UTC time in year, month, day, UTC hour format."
   ]
  },
  {
   "cell_type": "code",
   "execution_count": null,
   "metadata": {},
   "outputs": [],
   "source": [
    "import datetime\n",
    "\n",
    "tomorrow = datetime.date.today() + datetime.timedelta(days=1)\n",
    "\n",
    "date_info = (tomorrow.year, tomorrow.month, tomorrow.day, 12)  # Hour given in UTC time\n",
    "\n",
    "print(\"Tomorrow's date:\", date_info)"
   ]
  },
  {
   "cell_type": "code",
   "execution_count": null,
   "metadata": {},
   "outputs": [],
   "source": [
    "EnvGFS = Environment(date=date_info, latitude=-21.960641, longitude=-47.482122)"
   ]
  },
  {
   "attachments": {},
   "cell_type": "markdown",
   "metadata": {},
   "source": [
    "Another approach is to specify date, latitude and longitude values after initialization. Let's do this when creating a new Environment instance that will be using the NAM weather forecast."
   ]
  },
  {
   "cell_type": "code",
   "execution_count": null,
   "metadata": {},
   "outputs": [],
   "source": [
    "EnvNAM = Environment(rail_length=5)"
   ]
  },
  {
   "cell_type": "code",
   "execution_count": null,
   "metadata": {},
   "outputs": [],
   "source": [
    "EnvNAM.set_date(date_info)"
   ]
  },
  {
   "cell_type": "code",
   "execution_count": null,
   "metadata": {},
   "outputs": [],
   "source": [
    "EnvNAM.set_location(-21.960641, -47.482122)"
   ]
  },
  {
   "attachments": {},
   "cell_type": "markdown",
   "metadata": {},
   "source": [
    "#### GFS\n",
    "\n",
    "Using the latest forecast from GFS is really simple. All we need to do is specify that GFS is the forecast we want. Note that since data is downloaded from NOMADS server, this line of code can take longer than usual."
   ]
  },
  {
   "cell_type": "code",
   "execution_count": null,
   "metadata": {},
   "outputs": [],
   "source": [
    "EnvGFS.set_atmospheric_model(type=\"Forecast\", file=\"GFS\")"
   ]
  },
  {
   "cell_type": "code",
   "execution_count": null,
   "metadata": {
    "scrolled": false
   },
   "outputs": [],
   "source": [
    "EnvGFS.all_info()"
   ]
  },
  {
   "attachments": {},
   "cell_type": "markdown",
   "metadata": {},
   "source": [
    "#### NAM and RAP\n",
    "\n",
    "We can also request the latest forecasts from NAM and RAP. Since they are regional models for North America, we need to specify latitude and longitude points in North America. We will use [SpacePort America](https://www.google.com/maps/place/32°59'18.7%22N+106°58'30.2%22W/@32.9885323,-106.9772443,800m/data=!3m2!1e3!4b1!4m13!1m6!3m5!1s0x86df9591b4145bf9:0x19c787f1198f25cf!2sSpaceport+America!8m2!3d32.9903796!4d-106.975041!3m5!1s0x0:0x0!7e2!8m2!3d32.9885168!4d-106.9750625) for this, represented by coordinates 32.988528, -106.975056 or 32°59'18.7\"N 106°58'30.2\"W."
   ]
  },
  {
   "cell_type": "code",
   "execution_count": null,
   "metadata": {},
   "outputs": [],
   "source": [
    "EnvNAM = Environment(date=date_info, latitude=32.988517, longitude=-106.975062)\n",
    "\n",
    "EnvRAP = Environment(date=date_info, latitude=32.988517, longitude=-106.975062)"
   ]
  },
  {
   "cell_type": "code",
   "execution_count": null,
   "metadata": {},
   "outputs": [],
   "source": [
    "EnvNAM.set_atmospheric_model(type=\"Forecast\", file=\"NAM\")\n",
    "\n",
    "EnvRAP.set_atmospheric_model(type=\"Forecast\", file=\"RAP\")"
   ]
  },
  {
   "cell_type": "code",
   "execution_count": null,
   "metadata": {},
   "outputs": [],
   "source": [
    "EnvNAM.info()"
   ]
  },
  {
   "cell_type": "code",
   "execution_count": null,
   "metadata": {},
   "outputs": [],
   "source": [
    "EnvRAP.info()"
   ]
  },
  {
   "attachments": {},
   "cell_type": "markdown",
   "metadata": {},
   "source": [
    "#### ERA-5 Reanalysis\n",
    "\n",
    "Using data from ERA-5 reanalysis is as simple as specifying the file location and the dictionary to be used. This is much faster since the data has already been downloaded and is stored locally."
   ]
  },
  {
   "cell_type": "code",
   "execution_count": null,
   "metadata": {},
   "outputs": [],
   "source": [
    "EnvERA = Environment(\n",
    "    date=(2018, 2, 17, 18),\n",
    "    latitude=32.988517,\n",
    "    longitude=-106.975062,\n",
    "    elevation=1400,\n",
    ")"
   ]
  },
  {
   "cell_type": "code",
   "execution_count": null,
   "metadata": {},
   "outputs": [],
   "source": [
    "EnvERA.set_atmospheric_model(\n",
    "    type=\"Reanalysis\",\n",
    "    file=\"../../data/weather/SpaceportAmerica_2018_ERA-5.nc\",\n",
    "    dictionary=\"ECMWF\",\n",
    ")"
   ]
  },
  {
   "cell_type": "code",
   "execution_count": null,
   "metadata": {
    "scrolled": false
   },
   "outputs": [],
   "source": [
    "EnvERA.info()"
   ]
  },
  {
   "attachments": {},
   "cell_type": "markdown",
   "metadata": {},
   "source": [
    "#### Other Weather Forecasts or Reanalysis - HIRESW\n",
    "\n",
    "We can use other forecasts or reanalysis as well. As an example, we will use the [HIRESW CONUS](http://nomads.ncep.noaa.gov/txt_descriptions/HIRES_doc.shtml) forecast available at [NOAA's NCEP NOMADS](http://nomads.ncep.noaa.gov/) website."
   ]
  },
  {
   "cell_type": "code",
   "execution_count": null,
   "metadata": {},
   "outputs": [],
   "source": [
    "import datetime\n",
    "\n",
    "today = datetime.date.today()\n",
    "date_info = (today.year, today.month, today.day, 12)  # Hour given in UTC time\n",
    "print(\"Today's date:\", date_info)\n",
    "\n",
    "EnvHIRESW = Environment(date=date_info, latitude=32.988517, longitude=-106.975062)"
   ]
  },
  {
   "attachments": {},
   "cell_type": "markdown",
   "metadata": {},
   "source": [
    "This model can be accessed through the following link: [https://nomads.ncep.noaa.gov:9090/dods/hiresw/hiresw20190206/hiresw_conusarw_12z](https://nomads.ncep.noaa.gov:9090/dods/hiresw/hiresw20190206/hiresw_conusarw_12z).\n",
    "\n",
    "Since it is available from NOAA's NCEP NOMADS, we could use the NOAA dictionary However, we will create one from scratch to showcase the methodology.\n",
    "\n",
    "The variables from the dataset can also be seen through the link above. We need to determine the name used by the model of the following dimensions and variables:\n",
    "\n",
    "- Time\n",
    "- Latitude\n",
    "- Longitude\n",
    "- Pressure Levels\n",
    "- Geopotential Height (as a function of Time, Pressure Levels, Latitude and Longitude)\n",
    "- Surface Geopotential Height (as a function of Time, Latitude and Longitude)\n",
    "- Wind - U Component (as a function of Time, Pressure Levels, Latitude and Longitude)\n",
    "- Wind - V Component (as a function of Time, Pressure Levels, Latitude and Longitude)\n",
    "\n",
    "Looking through the variable list in the link above, we find the following correspondence:\n",
    "\n",
    "- Time = **'time'**\n",
    "- Latitude = **'lat'**\n",
    "- Longitude = **'lon'**\n",
    "- Pressure Levels = **'lev'**\n",
    "- Geopotential Height = **'hgtprs'**\n",
    "- Surface Geopotential Height = **'hgtsfc'**\n",
    "- Wind - U Component = **'ugrdprs'**\n",
    "- Wind - V Component = **'vgrdprs'**\n",
    "\n",
    "Therefore, we use the dictionary shown below."
   ]
  },
  {
   "cell_type": "code",
   "execution_count": null,
   "metadata": {},
   "outputs": [],
   "source": [
    "HIRESW_dictionary = {\n",
    "    \"time\": \"time\",\n",
    "    \"latitude\": \"lat\",\n",
    "    \"longitude\": \"lon\",\n",
    "    \"level\": \"lev\",\n",
    "    \"temperature\": \"tmpprs\",\n",
    "    \"surface_geopotential_height\": \"hgtsfc\",\n",
    "    \"geopotential_height\": \"hgtprs\",\n",
    "    \"u_wind\": \"ugrdprs\",\n",
    "    \"v_wind\": \"vgrdprs\",\n",
    "}"
   ]
  },
  {
   "attachments": {},
   "cell_type": "markdown",
   "metadata": {},
   "source": [
    "This dictionary can then be used in the Environment.set_atmospheric_model method."
   ]
  },
  {
   "cell_type": "code",
   "execution_count": null,
   "metadata": {},
   "outputs": [],
   "source": [
    "date_string = f\"{date_info[0]}{date_info[1]:02}{date_info[2]:02}\"\n",
    "print(\"Today's date string:\", date_string)\n",
    "\n",
    "EnvHIRESW.set_atmospheric_model(\n",
    "    type=\"Forecast\",\n",
    "    file=f\"https://nomads.ncep.noaa.gov/dods/hiresw/hiresw{date_string}/hiresw_conusarw_12z\",\n",
    "    dictionary=HIRESW_dictionary,\n",
    ")"
   ]
  },
  {
   "cell_type": "code",
   "execution_count": null,
   "metadata": {},
   "outputs": [],
   "source": [
    "EnvHIRESW.info()"
   ]
  },
  {
   "attachments": {},
   "cell_type": "markdown",
   "metadata": {},
   "source": [
    "### Using Windy Atmosphere\n",
    "\n",
    "*Windy.com* is a website that lets you see and get weather and atmospheric forecasts in any place in the world.\n",
    "The same atmospheric predictions and data that are available on *windy.com* can be set as an atmospheric model in RocketPy.\n",
    "\n",
    "A few different models are accepted:\n",
    "\n",
    "- *ECMWF-HRES*\n",
    "- *GFS*\n",
    "- *ICON-Global*\n",
    "- *ICON-EU*."
   ]
  },
  {
   "attachments": {},
   "cell_type": "markdown",
   "metadata": {},
   "source": [
    "#### Setting up Date, latitude and Longitude\n",
    "\n",
    "Just like when using Forecasts and Reanalysis, all Environments which use windy must have date, latitude and longitude set up correctly during or after initialization in order for everything to work smoothly.\n",
    "\n",
    "Lets first initialize a few different Envioronmets with the same date. Each one for a different atmospheric model."
   ]
  },
  {
   "cell_type": "code",
   "execution_count": null,
   "metadata": {},
   "outputs": [],
   "source": [
    "import datetime\n",
    "\n",
    "tomorrow = datetime.date.today() + datetime.timedelta(days=1)\n",
    "\n",
    "date_info = (tomorrow.year, tomorrow.month, tomorrow.day, 12)  # Hour given in UTC time\n",
    "\n",
    "print(\"Tomorrow's date:\", date_info)"
   ]
  },
  {
   "cell_type": "code",
   "execution_count": null,
   "metadata": {},
   "outputs": [],
   "source": [
    "EnvECMWF = Environment(date=date_info, latitude=-21.960641, longitude=-47.482122)\n",
    "\n",
    "EnvGFS = Environment(date=date_info, latitude=-21.960641, longitude=-47.482122)\n",
    "\n",
    "EnvICON = Environment(date=date_info, latitude=-21.960641, longitude=-47.482122)\n",
    "\n",
    "EnvICONEU = Environment(date=date_info, latitude=48.137154, longitude=11.576124)"
   ]
  },
  {
   "attachments": {},
   "cell_type": "markdown",
   "metadata": {},
   "source": [
    "#### Setting up the Atmospheric Models\n",
    "\n",
    "Now we set up each different atmospheric model"
   ]
  },
  {
   "cell_type": "code",
   "execution_count": null,
   "metadata": {},
   "outputs": [],
   "source": [
    "EnvECMWF.set_atmospheric_model(type=\"Windy\", file=\"ECMWF\")\n",
    "\n",
    "EnvGFS.set_atmospheric_model(type=\"Windy\", file=\"GFS\")\n",
    "\n",
    "EnvICON.set_atmospheric_model(type=\"Windy\", file=\"ICON\")\n",
    "\n",
    "EnvICONEU.set_atmospheric_model(type=\"Windy\", file=\"ICONEU\")"
   ]
  },
  {
   "attachments": {},
   "cell_type": "markdown",
   "metadata": {},
   "source": [
    "And printing and plotting everything availabe (just for ECMWF model for simplicity)"
   ]
  },
  {
   "cell_type": "code",
   "execution_count": null,
   "metadata": {},
   "outputs": [],
   "source": [
    "EnvICONEU.all_info()"
   ]
  },
  {
   "attachments": {},
   "cell_type": "markdown",
   "metadata": {},
   "source": [
    "### Using Ensemble Forecasts and Reanalysis\n",
    "\n",
    "Ensemble weather forecasts and reanalysis can also be imported. Since ensembles are just a gathering of multiple weather predictions, they are great for dispersion analysis and Monte Carlo simulations. One member forecast of the ensemble can be selected to run each flight simulation.\n",
    "\n",
    "Two global ensembles are available by default: GEFS and CMC Ensemble, but others can also be used. To showcase another example, an ERA5 Reanalysis ensemble will also be shown."
   ]
  },
  {
   "attachments": {},
   "cell_type": "markdown",
   "metadata": {},
   "source": [
    "#### GEFS"
   ]
  },
  {
   "cell_type": "code",
   "execution_count": null,
   "metadata": {},
   "outputs": [],
   "source": [
    "import datetime\n",
    "\n",
    "tomorrow = datetime.date.today() + datetime.timedelta(days=1)\n",
    "date_info = (tomorrow.year, tomorrow.month, tomorrow.day, 12)  # Hour given in UTC time\n",
    "\n",
    "EnvGEFS = Environment(\n",
    "    date=date_info,\n",
    "    latitude=-21.960641,\n",
    "    longitude=-47.482122,\n",
    "    elevation=640,\n",
    ")"
   ]
  },
  {
   "cell_type": "code",
   "execution_count": null,
   "metadata": {},
   "outputs": [],
   "source": [
    "EnvGEFS.set_atmospheric_model(type=\"Ensemble\", file=\"GEFS\")"
   ]
  },
  {
   "attachments": {},
   "cell_type": "markdown",
   "metadata": {},
   "source": [
    "By default, the 0th forecast member is activated, which means that using EnvGFS will be exactly the same as using the 0th forecast member, and all other forecasts are kept away stored. Changing this is as easy as the following line of code."
   ]
  },
  {
   "cell_type": "code",
   "execution_count": null,
   "metadata": {},
   "outputs": [],
   "source": [
    "EnvGEFS.select_ensemble_member(1)"
   ]
  },
  {
   "attachments": {},
   "cell_type": "markdown",
   "metadata": {},
   "source": [
    "Now, a new forecast is active and EnvGFS behaves as if ensemble member 1 was its only forecast.\n",
    "\n",
    "A very useful thing is to compare the forecast of all ensemble members, as well as confirming how many are there. All of this can be done by using Environment.all_info()."
   ]
  },
  {
   "cell_type": "code",
   "execution_count": null,
   "metadata": {
    "scrolled": false
   },
   "outputs": [],
   "source": [
    "EnvGEFS.all_info()"
   ]
  },
  {
   "attachments": {},
   "cell_type": "markdown",
   "metadata": {},
   "source": [
    "#### CMC Ensemble"
   ]
  },
  {
   "cell_type": "code",
   "execution_count": null,
   "metadata": {},
   "outputs": [],
   "source": [
    "EnvCMC = Environment(\n",
    "    date=date_info,\n",
    "    latitude=-21.960641,\n",
    "    longitude=-47.482122,\n",
    "    elevation=640,\n",
    ")"
   ]
  },
  {
   "cell_type": "code",
   "execution_count": null,
   "metadata": {},
   "outputs": [],
   "source": [
    "EnvCMC.set_atmospheric_model(type=\"Ensemble\", file=\"CMC\")"
   ]
  },
  {
   "cell_type": "code",
   "execution_count": null,
   "metadata": {
    "scrolled": false
   },
   "outputs": [],
   "source": [
    "EnvCMC.all_info()"
   ]
  },
  {
   "attachments": {},
   "cell_type": "markdown",
   "metadata": {
    "heading_collapsed": true
   },
   "source": [
    "#### ERA5 Ensemble"
   ]
  },
  {
   "cell_type": "code",
   "execution_count": null,
   "metadata": {
    "hidden": true
   },
   "outputs": [],
   "source": [
    "EnvERA5 = Environment(date=(2018, 2, 17, 18), latitude=-21.960641, longitude=-47.482122)"
   ]
  },
  {
   "cell_type": "code",
   "execution_count": null,
   "metadata": {
    "hidden": true
   },
   "outputs": [],
   "source": [
    "EnvERA5.set_atmospheric_model(\n",
    "    type=\"Ensemble\",\n",
    "    file=\"../data/weather/CuritibaRioSaoPauloEnsemble_2018_ERA-5.nc\",\n",
    "    dictionary=\"ECMWF\",\n",
    ")"
   ]
  },
  {
   "cell_type": "code",
   "execution_count": null,
   "metadata": {
    "hidden": true,
    "scrolled": false
   },
   "outputs": [],
   "source": [
    "EnvERA5.all_info()"
   ]
  }
 ],
 "metadata": {
  "hide_input": false,
  "kernelspec": {
   "display_name": "Python 3.10.5 64-bit",
   "language": "python",
   "name": "python3"
  },
  "language_info": {
   "codemirror_mode": {
    "name": "ipython",
    "version": 3
   },
   "file_extension": ".py",
   "mimetype": "text/x-python",
   "name": "python",
   "nbconvert_exporter": "python",
   "pygments_lexer": "ipython3",
   "version": "3.10.5"
  },
  "vscode": {
   "interpreter": {
    "hash": "26de051ba29f2982a8de78e945f0abaf191376122a1563185a90213a26c5da77"
   }
  }
 },
 "nbformat": 4,
 "nbformat_minor": 2
}
